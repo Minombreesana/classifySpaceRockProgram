{
 "metadata": {
  "language_info": {
   "codemirror_mode": {
    "name": "ipython",
    "version": 3
   },
   "file_extension": ".py",
   "mimetype": "text/x-python",
   "name": "python",
   "nbconvert_exporter": "python",
   "pygments_lexer": "ipython3",
   "version": "3.9.1"
  },
  "orig_nbformat": 4,
  "kernelspec": {
   "name": "python3",
   "display_name": "Python 3.9.1 64-bit ('venv': venv)"
  },
  "interpreter": {
   "hash": "211c7ff5721ac32e8cf283cf5b8be0657369b5845e7c8d793bceb9c6eef33c9e"
  }
 },
 "nbformat": 4,
 "nbformat_minor": 2,
 "cells": [
  {
   "cell_type": "code",
   "execution_count": 2,
   "metadata": {},
   "outputs": [],
   "source": [
    "import matplotlib.pyplot as plt \n",
    "import numpy as np \n",
    "\n",
    "import torch\n",
    "from torch import nn, optim\n",
    "from torch.autograd import variable\n",
    "import torch.nn.functional as F \n",
    "\n",
    "import torchvision\n",
    "from torchvision import datasets, transforms, models\n",
    "\n",
    "from PIL import Image\n",
    "\n",
    "%matplotlib inline \n",
    "%config InlineBackend.figure_format = 'retina'"
   ]
  },
  {
   "cell_type": "code",
   "execution_count": 6,
   "metadata": {},
   "outputs": [
    {
     "output_type": "stream",
     "name": "stdout",
     "text": [
      "['Basalt', 'Highland']\n"
     ]
    }
   ],
   "source": [
    "data_dir = './Data'\n",
    "\n",
    "def load_split_train_test(data_dir, valid_size = 0.2):\n",
    "\n",
    "    train_transforms = transforms.Compose([\n",
    "                                           transforms.RandomResizedCrop(224),\n",
    "                                           transforms.Resize(224),\n",
    "                                           transforms.ToTensor(),\n",
    "                                          ])\n",
    "    test_transforms = transforms.Compose([\n",
    "                                           transforms.RandomResizedCrop(224),\n",
    "                                           transforms.Resize(224),\n",
    "                                           transforms.ToTensor(),\n",
    "                                          ])\n",
    "\n",
    "    train_data = datasets.ImageFolder(data_dir, transform=train_transforms)\n",
    "    test_data = datasets.ImageFolder(data_dir, transform=test_transforms)\n",
    "\n",
    "    num_train = len(train_data)\n",
    "\n",
    "    indices = list(range(num_train))\n",
    "\n",
    "    split = int(np.floor(valid_size * num_train))\n",
    "\n",
    "    np.random.shuffle(indices)\n",
    "\n",
    "    from torch.utils.data.sampler import SubsetRandomSampler\n",
    "\n",
    "    train_idx, test_idx = indices[split:], indices[:split]\n",
    "\n",
    "    train_sampler = SubsetRandomSampler(train_idx)\n",
    "    test_sampler = SubsetRandomSampler(test_idx)\n",
    "\n",
    "    trainloader = torch.utils.data.DataLoader(train_data, sampler= train_sampler, batch_size = 16)\n",
    "    testloader = torch.utils.data.DataLoader(test_data, sampler=test_sampler, batch_size = 16)\n",
    "\n",
    "    return trainloader, testloader\n",
    "\n",
    "trainloader, testloader = load_split_train_test(data_dir, 0.2)\n",
    "\n",
    "print(trainloader.dataset.classes)\n",
    "\n",
    "\n",
    "\n",
    "\n",
    "\n",
    "\n"
   ]
  },
  {
   "cell_type": "code",
   "execution_count": null,
   "metadata": {},
   "outputs": [],
   "source": []
  }
 ]
}